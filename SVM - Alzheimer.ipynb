{
 "cells": [
  {
   "cell_type": "markdown",
   "metadata": {
    "_uuid": "566105ab7a54c9420a4f649dea3fa1f52da1d79d",
    "colab_type": "text",
    "id": "XZY2wtKYtH3h"
   },
   "source": [
    "# 1. DATA SET ANALYSIS - EXPLORATORY DATA ANALYSIS(EDA)\n",
    "---\n",
    "\n",
    "In this section, we have focused on exploring the relationship between each feature of MRI tests and dementia of the patient.\n",
    "The minimum, maximum, and average values of each feature for graph implementation are as follows."
   ]
  },
  {
   "cell_type": "code",
   "execution_count": 8,
   "metadata": {
    "_uuid": "6a720755860b07d7eb93e458306ec1b6fa079ed5"
   },
   "outputs": [
    {
     "data": {
      "text/html": [
       "<div>\n",
       "<style scoped>\n",
       "    .dataframe tbody tr th:only-of-type {\n",
       "        vertical-align: middle;\n",
       "    }\n",
       "\n",
       "    .dataframe tbody tr th {\n",
       "        vertical-align: top;\n",
       "    }\n",
       "\n",
       "    .dataframe thead th {\n",
       "        text-align: right;\n",
       "    }\n",
       "</style>\n",
       "<table border=\"1\" class=\"dataframe\">\n",
       "  <thead>\n",
       "    <tr style=\"text-align: right;\">\n",
       "      <th></th>\n",
       "      <th>Subject ID</th>\n",
       "      <th>MRI ID</th>\n",
       "      <th>Group</th>\n",
       "      <th>Visit</th>\n",
       "      <th>MR Delay</th>\n",
       "      <th>M/F</th>\n",
       "      <th>Hand</th>\n",
       "      <th>Age</th>\n",
       "      <th>EDUC</th>\n",
       "      <th>SES</th>\n",
       "      <th>MMSE</th>\n",
       "      <th>CDR</th>\n",
       "      <th>eTIV</th>\n",
       "      <th>nWBV</th>\n",
       "      <th>ASF</th>\n",
       "    </tr>\n",
       "  </thead>\n",
       "  <tbody>\n",
       "    <tr>\n",
       "      <th>0</th>\n",
       "      <td>OAS2_0001</td>\n",
       "      <td>OAS2_0001_MR1</td>\n",
       "      <td>Nondemented</td>\n",
       "      <td>1</td>\n",
       "      <td>0</td>\n",
       "      <td>M</td>\n",
       "      <td>R</td>\n",
       "      <td>87</td>\n",
       "      <td>14</td>\n",
       "      <td>2.0</td>\n",
       "      <td>27.0</td>\n",
       "      <td>0.0</td>\n",
       "      <td>1987</td>\n",
       "      <td>0.696</td>\n",
       "      <td>0.883</td>\n",
       "    </tr>\n",
       "    <tr>\n",
       "      <th>1</th>\n",
       "      <td>OAS2_0001</td>\n",
       "      <td>OAS2_0001_MR2</td>\n",
       "      <td>Nondemented</td>\n",
       "      <td>2</td>\n",
       "      <td>457</td>\n",
       "      <td>M</td>\n",
       "      <td>R</td>\n",
       "      <td>88</td>\n",
       "      <td>14</td>\n",
       "      <td>2.0</td>\n",
       "      <td>30.0</td>\n",
       "      <td>0.0</td>\n",
       "      <td>2004</td>\n",
       "      <td>0.681</td>\n",
       "      <td>0.876</td>\n",
       "    </tr>\n",
       "    <tr>\n",
       "      <th>2</th>\n",
       "      <td>OAS2_0002</td>\n",
       "      <td>OAS2_0002_MR1</td>\n",
       "      <td>Demented</td>\n",
       "      <td>1</td>\n",
       "      <td>0</td>\n",
       "      <td>M</td>\n",
       "      <td>R</td>\n",
       "      <td>75</td>\n",
       "      <td>12</td>\n",
       "      <td>NaN</td>\n",
       "      <td>23.0</td>\n",
       "      <td>0.5</td>\n",
       "      <td>1678</td>\n",
       "      <td>0.736</td>\n",
       "      <td>1.046</td>\n",
       "    </tr>\n",
       "    <tr>\n",
       "      <th>3</th>\n",
       "      <td>OAS2_0002</td>\n",
       "      <td>OAS2_0002_MR2</td>\n",
       "      <td>Demented</td>\n",
       "      <td>2</td>\n",
       "      <td>560</td>\n",
       "      <td>M</td>\n",
       "      <td>R</td>\n",
       "      <td>76</td>\n",
       "      <td>12</td>\n",
       "      <td>NaN</td>\n",
       "      <td>28.0</td>\n",
       "      <td>0.5</td>\n",
       "      <td>1738</td>\n",
       "      <td>0.713</td>\n",
       "      <td>1.010</td>\n",
       "    </tr>\n",
       "    <tr>\n",
       "      <th>4</th>\n",
       "      <td>OAS2_0002</td>\n",
       "      <td>OAS2_0002_MR3</td>\n",
       "      <td>Demented</td>\n",
       "      <td>3</td>\n",
       "      <td>1895</td>\n",
       "      <td>M</td>\n",
       "      <td>R</td>\n",
       "      <td>80</td>\n",
       "      <td>12</td>\n",
       "      <td>NaN</td>\n",
       "      <td>22.0</td>\n",
       "      <td>0.5</td>\n",
       "      <td>1698</td>\n",
       "      <td>0.701</td>\n",
       "      <td>1.034</td>\n",
       "    </tr>\n",
       "  </tbody>\n",
       "</table>\n",
       "</div>"
      ],
      "text/plain": [
       "  Subject ID         MRI ID        Group  Visit  MR Delay M/F Hand  Age  EDUC  \\\n",
       "0  OAS2_0001  OAS2_0001_MR1  Nondemented      1         0   M    R   87    14   \n",
       "1  OAS2_0001  OAS2_0001_MR2  Nondemented      2       457   M    R   88    14   \n",
       "2  OAS2_0002  OAS2_0002_MR1     Demented      1         0   M    R   75    12   \n",
       "3  OAS2_0002  OAS2_0002_MR2     Demented      2       560   M    R   76    12   \n",
       "4  OAS2_0002  OAS2_0002_MR3     Demented      3      1895   M    R   80    12   \n",
       "\n",
       "   SES  MMSE  CDR  eTIV   nWBV    ASF  \n",
       "0  2.0  27.0  0.0  1987  0.696  0.883  \n",
       "1  2.0  30.0  0.0  2004  0.681  0.876  \n",
       "2  NaN  23.0  0.5  1678  0.736  1.046  \n",
       "3  NaN  28.0  0.5  1738  0.713  1.010  \n",
       "4  NaN  22.0  0.5  1698  0.701  1.034  "
      ]
     },
     "execution_count": 8,
     "metadata": {},
     "output_type": "execute_result"
    }
   ],
   "source": [
    "import pandas as pd\n",
    "import numpy as np\n",
    "import seaborn as sns\n",
    "import matplotlib.pyplot as plt\n",
    "%matplotlib inline\n",
    "\n",
    "sns.set()\n",
    "\n",
    "df = pd.read_csv('C:/users/siddh/oasis_longitudinal.csv')\n",
    "df.head()"
   ]
  },
  {
   "cell_type": "code",
   "execution_count": 44,
   "metadata": {
    "_uuid": "08991ab4c6c3aef89ad366662aad97a846aa9d8f"
   },
   "outputs": [],
   "source": [
    "df = df.loc[df['Visit']==1]\n",
    "df = df.reset_index(drop=True) \n",
    "df['M/F'] = df['M/F'].replace(['F','M'], [0,1])\n",
    "df['Group'] = df['Group'].replace(['Converted'], ['Demented']) \n",
    "df['Group'] = df['Group'].replace(['Demented', 'Nondemented'], [1,0]) \n",
    "df = df.drop(['MRI ID', 'Visit', 'Hand'], axis=1)"
   ]
  },
  {
   "cell_type": "code",
   "execution_count": 45,
   "metadata": {
    "_uuid": "9175b97a0b02ff8ace2e3bc8a6327488b3232783",
    "colab": {
     "autoexec": {
      "startup": false,
      "wait_interval": 0
     },
     "base_uri": "https://localhost:8080/",
     "height": 919,
     "output_extras": [
      {
       "item_id": 1
      }
     ]
    },
    "colab_type": "code",
    "executionInfo": {
     "elapsed": 11761,
     "status": "error",
     "timestamp": 1512599691671,
     "user": {
      "displayName": "Saurin Parikh",
      "photoUrl": "//lh3.googleusercontent.com/-6RG-0wrBKjU/AAAAAAAAAAI/AAAAAAAABpU/h5Zwf5zd3tk/s50-c-k-no/photo.jpg",
      "userId": "104703813675171986785"
     },
     "user_tz": 300
    },
    "id": "-4-ZVrHJslSF",
    "outputId": "5f5cc170-02d6-41d4-f5f2-3b575833b56b"
   },
   "outputs": [],
   "source": [
    "def bar_chart(feature):\n",
    "    Demented = df[df['Group']==1][feature].value_counts()\n",
    "    Nondemented = df[df['Group']==0][feature].value_counts()\n",
    "    df_bar = pd.DataFrame([Demented,Nondemented])\n",
    "    df_bar.index = ['Demented','Nondemented']\n",
    "    df_bar.plot(kind='bar',stacked=True, figsize=(8,5))"
   ]
  },
  {
   "cell_type": "code",
   "execution_count": 46,
   "metadata": {
    "_uuid": "5f8599d4f70b78047011217e3bbcaa26311fddc6",
    "colab": {
     "autoexec": {
      "startup": false,
      "wait_interval": 0
     },
     "output_extras": [
      {},
      {}
     ]
    },
    "colab_type": "code",
    "id": "k-92eJ7pslSL",
    "outputId": "d9940867-44f6-4d3a-f6fb-ddef5630877e"
   },
   "outputs": [
    {
     "data": {
      "text/plain": [
       "Text(0.5,1,'Gender and Demented rate')"
      ]
     },
     "execution_count": 46,
     "metadata": {},
     "output_type": "execute_result"
    },
    {
     "data": {
      "image/png": "[encoded data removed]",
      "text/plain": [
       "<Figure size 576x360 with 1 Axes>"
      ]
     },
     "metadata": {},
     "output_type": "display_data"
    }
   ],
   "source": [
    "# Gender  and  Group ( Female=0, Male=1)\n",
    "bar_chart('M/F')\n",
    "plt.xlabel('Group')\n",
    "plt.ylabel('Number of patients')\n",
    "plt.legend()\n",
    "plt.title('Gender and Demented rate')"
   ]
  },
  {
   "cell_type": "markdown",
   "metadata": {
    "_uuid": "46c3ccb6893e52a6636e9a764539a92084f90407",
    "colab_type": "text",
    "id": "9m16iCGyslSO"
   },
   "source": [
    "The above graph indicates that men are more likely with dementia than women.\n"
   ]
  },
  {
   "cell_type": "markdown",
   "metadata": {},
   "source": [
    "# MINI MENTAL STATE EXAMINATION\n",
    "# Nondemented = 0, Demented =1\n",
    "# Nondemented has higher test result ranging from 25 to 30. \n",
    "#Min 17 ,MAX 30"
   ]
  },
  {
   "cell_type": "code",
   "execution_count": 47,
   "metadata": {
    "_uuid": "e1b8fbe86bbf469971aed915c2b8e9caa9cdbe53",
    "colab": {
     "autoexec": {
      "startup": false,
      "wait_interval": 0
     },
     "output_extras": [
      {},
      {}
     ]
    },
    "colab_type": "code",
    "id": "QfZMuTl7slSP",
    "outputId": "b3a6a8a7-5cd6-48eb-e631-20b8d30c3bad"
   },
   "outputs": [
    {
     "name": "stderr",
     "output_type": "stream",
     "text": [
      "C:\\ProgramData\\Anaconda3\\lib\\site-packages\\scipy\\stats\\stats.py:1713: FutureWarning: Using a non-tuple sequence for multidimensional indexing is deprecated; use `arr[tuple(seq)]` instead of `arr[seq]`. In the future this will be interpreted as an array index, `arr[np.array(seq)]`, which will result either in an error or a different result.\n",
      "  return np.add.reduce(sorted[indexer] * weights, axis=axis) / sumval\n"
     ]
    },
    {
     "data": {
      "text/plain": [
       "(15.3, 30.0)"
      ]
     },
     "execution_count": 47,
     "metadata": {},
     "output_type": "execute_result"
    },
    {
     "data": {
      "image/png": "[encoded data removed]",
      "text/plain": [
       "<Figure size 693.725x216 with 1 Axes>"
      ]
     },
     "metadata": {},
     "output_type": "display_data"
    }
   ],
   "source": [
    "facet= sns.FacetGrid(df,hue=\"Group\", aspect=3)\n",
    "facet.map(sns.kdeplot,'MMSE',shade= True)\n",
    "facet.set(xlim=(0, df['MMSE'].max()))\n",
    "facet.add_legend()\n",
    "plt.xlim(15.30)"
   ]
  },
  {
   "cell_type": "markdown",
   "metadata": {
    "_uuid": "8d01f7c6b66442f0b1eeb814464cec8654a24945",
    "colab_type": "text",
    "id": "WumyA7d6slSR"
   },
   "source": [
    "The chart shows Nondemented group got much more higher MMSE scores than Demented group."
   ]
  },
  {
   "cell_type": "code",
   "execution_count": 48,
   "metadata": {
    "_uuid": "4dc483b489417595af5d23cf7a44de13c8ba371d",
    "colab": {
     "autoexec": {
      "startup": false,
      "wait_interval": 0
     },
     "output_extras": [
      {},
      {},
      {},
      {}
     ]
    },
    "colab_type": "code",
    "id": "JPuWkiWGslSS",
    "outputId": "4088e3c2-8493-41d2-c61a-c386e784fd37"
   },
   "outputs": [
    {
     "name": "stderr",
     "output_type": "stream",
     "text": [
      "C:\\ProgramData\\Anaconda3\\lib\\site-packages\\scipy\\stats\\stats.py:1713: FutureWarning: Using a non-tuple sequence for multidimensional indexing is deprecated; use `arr[tuple(seq)]` instead of `arr[seq]`. In the future this will be interpreted as an array index, `arr[np.array(seq)]`, which will result either in an error or a different result.\n",
      "  return np.add.reduce(sorted[indexer] * weights, axis=axis) / sumval\n"
     ]
    },
    {
     "data": {
      "text/plain": [
       "(0.6, 0.9)"
      ]
     },
     "execution_count": 48,
     "metadata": {},
     "output_type": "execute_result"
    },
    {
     "data": {
      "image/png": "[encoded data removed]",
      "text/plain": [
       "<Figure size 693.725x216 with 1 Axes>"
      ]
     },
     "metadata": {},
     "output_type": "display_data"
    },
    {
     "data": {
      "image/png": "[encoded data removed]",
      "text/plain": [
       "<Figure size 693.725x216 with 1 Axes>"
      ]
     },
     "metadata": {},
     "output_type": "display_data"
    },
    {
     "data": {
      "image/png": "[encoded data removed]",
      "text/plain": [
       "<Figure size 693.725x216 with 1 Axes>"
      ]
     },
     "metadata": {},
     "output_type": "display_data"
    }
   ],
   "source": [
    "#bar_chart('ASF') = Atlas Scaling Factor\n",
    "facet= sns.FacetGrid(df,hue=\"Group\", aspect=3)\n",
    "facet.map(sns.kdeplot,'ASF',shade= True)\n",
    "facet.set(xlim=(0, df['ASF'].max()))\n",
    "facet.add_legend()\n",
    "plt.xlim(0.5, 2)\n",
    "\n",
    "#eTIV = Estimated Total Intracranial Volume\n",
    "facet= sns.FacetGrid(df,hue=\"Group\", aspect=3)\n",
    "facet.map(sns.kdeplot,'eTIV',shade= True)\n",
    "facet.set(xlim=(0, df['eTIV'].max()))\n",
    "facet.add_legend()\n",
    "plt.xlim(900, 2100)\n",
    "\n",
    "#'nWBV' = Normalized Whole Brain Volume\n",
    "# Nondemented = 0, Demented =1\n",
    "facet= sns.FacetGrid(df,hue=\"Group\", aspect=3)\n",
    "facet.map(sns.kdeplot,'nWBV',shade= True)\n",
    "facet.set(xlim=(0, df['nWBV'].max()))\n",
    "facet.add_legend()\n",
    "plt.xlim(0.6,0.9)"
   ]
  },
  {
   "cell_type": "markdown",
   "metadata": {
    "_uuid": "96f2d269e35927b57c5068b2b3dda2d145ae91f4",
    "colab_type": "text",
    "id": "1LC-PdJislSV"
   },
   "source": [
    "The chart indicates that Nondemented group has higher brain volume ratio than Demented group. This is assumed to be because the diseases affect the brain to be shrinking its tissue. "
   ]
  },
  {
   "cell_type": "code",
   "execution_count": 49,
   "metadata": {
    "_uuid": "87a846e38f21e28b3c7ad6bae536b7cd2c3e2466",
    "colab": {
     "autoexec": {
      "startup": false,
      "wait_interval": 0
     },
     "output_extras": [
      {},
      {}
     ]
    },
    "colab_type": "code",
    "id": "w6rN7jjSslSW",
    "outputId": "fbb23e63-a926-477c-c6ff-fc87933c1ea6"
   },
   "outputs": [
    {
     "name": "stderr",
     "output_type": "stream",
     "text": [
      "C:\\ProgramData\\Anaconda3\\lib\\site-packages\\scipy\\stats\\stats.py:1713: FutureWarning: Using a non-tuple sequence for multidimensional indexing is deprecated; use `arr[tuple(seq)]` instead of `arr[seq]`. In the future this will be interpreted as an array index, `arr[np.array(seq)]`, which will result either in an error or a different result.\n",
      "  return np.add.reduce(sorted[indexer] * weights, axis=axis) / sumval\n"
     ]
    },
    {
     "data": {
      "text/plain": [
       "(50, 100)"
      ]
     },
     "execution_count": 49,
     "metadata": {},
     "output_type": "execute_result"
    },
    {
     "data": {
      "image/png": "[encoded data removed]",
      "text/plain": [
       "<Figure size 693.725x216 with 1 Axes>"
      ]
     },
     "metadata": {},
     "output_type": "display_data"
    }
   ],
   "source": [
    "#AGE. Nondemented =0, Demented =0\n",
    "facet= sns.FacetGrid(df,hue=\"Group\", aspect=3)\n",
    "facet.map(sns.kdeplot,'Age',shade= True)\n",
    "facet.set(xlim=(0, df['Age'].max()))\n",
    "facet.add_legend()\n",
    "plt.xlim(50,100)"
   ]
  },
  {
   "cell_type": "markdown",
   "metadata": {
    "_uuid": "e491fe3ded880c040a17cde07279b0474b00ff7a",
    "colab_type": "text",
    "id": "VlQHpQRWslSY"
   },
   "source": [
    "There is a higher concentration of 70-80 years old in the Demented patient group than those in the nondemented patients.\n",
    "We guess patients who suffered from that kind of disease has lower survival rate so that there are a few of 90 years old."
   ]
  },
  {
   "cell_type": "code",
   "execution_count": 50,
   "metadata": {
    "_uuid": "8177a32eff0fece26f2220ccc046843347afc41e",
    "colab": {
     "autoexec": {
      "startup": false,
      "wait_interval": 0
     },
     "output_extras": [
      {},
      {}
     ]
    },
    "colab_type": "code",
    "id": "w6rN7jjSslSW",
    "outputId": "fbb23e63-a926-477c-c6ff-fc87933c1ea6"
   },
   "outputs": [
    {
     "name": "stderr",
     "output_type": "stream",
     "text": [
      "C:\\ProgramData\\Anaconda3\\lib\\site-packages\\scipy\\stats\\stats.py:1713: FutureWarning: Using a non-tuple sequence for multidimensional indexing is deprecated; use `arr[tuple(seq)]` instead of `arr[seq]`. In the future this will be interpreted as an array index, `arr[np.array(seq)]`, which will result either in an error or a different result.\n",
      "  return np.add.reduce(sorted[indexer] * weights, axis=axis) / sumval\n"
     ]
    },
    {
     "data": {
      "text/plain": [
       "(0, 0.16)"
      ]
     },
     "execution_count": 50,
     "metadata": {},
     "output_type": "execute_result"
    },
    {
     "data": {
      "image/png": "[encoded data removed]",
      "text/plain": [
       "<Figure size 693.725x216 with 1 Axes>"
      ]
     },
     "metadata": {},
     "output_type": "display_data"
    }
   ],
   "source": [
    "#'EDUC' = Years of Education\n",
    "facet= sns.FacetGrid(df,hue=\"Group\", aspect=3)\n",
    "facet.map(sns.kdeplot,'EDUC',shade= True)\n",
    "facet.set(xlim=(df['EDUC'].min(), df['EDUC'].max()))\n",
    "facet.add_legend()\n",
    "plt.ylim(0, 0.16)"
   ]
  },
  {
   "cell_type": "markdown",
   "metadata": {
    "_uuid": "26e6c99d943c7e371e9fd7c3b962449996e743fd",
    "colab_type": "text",
    "id": "HGKJOeWYslSZ"
   },
   "source": [
    "## Intermediate Result Summary\n",
    "1. Men are more likely with demented, an Alzheimer's Disease, than Women.\n",
    "2. Demented patients were less educated in terms of years of education.\n",
    "3. Nondemented group has higher brain volume than Demented group.\n",
    "4. Higher concentration of 70-80 years old in Demented group than those in the nondemented patients."
   ]
  },
  {
   "cell_type": "markdown",
   "metadata": {
    "_uuid": "80a9f0ebb50abd31cfa14ed7d93204d00f313543",
    "colab_type": "text",
    "id": "dR7e2FEuScR8"
   },
   "source": [
    "# 3. Data Preprocessing\n"
   ]
  },
  {
   "cell_type": "code",
   "execution_count": 51,
   "metadata": {
    "_uuid": "c485e9bdba313a2897fa58aa61406f07c2206c27",
    "colab": {
     "autoexec": {
      "startup": false,
      "wait_interval": 0
     },
     "output_extras": [
      {}
     ]
    },
    "colab_type": "code",
    "id": "crn5DxTUScSI",
    "outputId": "10613858-0403-4c42-aea7-7bc3635ef60e"
   },
   "outputs": [
    {
     "data": {
      "text/plain": [
       "Subject ID    0\n",
       "Group         0\n",
       "MR Delay      0\n",
       "M/F           0\n",
       "Age           0\n",
       "EDUC          0\n",
       "SES           8\n",
       "MMSE          0\n",
       "CDR           0\n",
       "eTIV          0\n",
       "nWBV          0\n",
       "ASF           0\n",
       "dtype: int64"
      ]
     },
     "execution_count": 51,
     "metadata": {},
     "output_type": "execute_result"
    }
   ],
   "source": [
    "pd.isnull(df).sum() "
   ]
  },
  {
   "cell_type": "markdown",
   "metadata": {
    "_uuid": "10bb2143731149217bd59b8ea7fb2f12706dd355",
    "colab_type": "text",
    "id": "v96VUyPYScSL"
   },
   "source": [
    "# 3.A Removing rows with missing values"
   ]
  },
  {
   "cell_type": "code",
   "execution_count": 52,
   "metadata": {
    "_uuid": "71f15a1cda750ae72a718d2ec0aa7939ac2b7855",
    "colab": {
     "autoexec": {
      "startup": false,
      "wait_interval": 0
     },
     "output_extras": [
      {}
     ]
    },
    "colab_type": "code",
    "id": "NCuXVrJtScSM",
    "outputId": "29e022db-bb16-44f6-bfc7-3cd3fbb6f930"
   },
   "outputs": [
    {
     "data": {
      "text/plain": [
       "Subject ID    0\n",
       "Group         0\n",
       "MR Delay      0\n",
       "M/F           0\n",
       "Age           0\n",
       "EDUC          0\n",
       "SES           0\n",
       "MMSE          0\n",
       "CDR           0\n",
       "eTIV          0\n",
       "nWBV          0\n",
       "ASF           0\n",
       "dtype: int64"
      ]
     },
     "execution_count": 52,
     "metadata": {},
     "output_type": "execute_result"
    }
   ],
   "source": [
    "df_dropna = df.dropna(axis=0, how='any')\n",
    "pd.isnull(df_dropna).sum()"
   ]
  },
  {
   "cell_type": "code",
   "execution_count": 53,
   "metadata": {
    "_uuid": "a08f0ff032efa883e45e9b5bd2b6d386dd89f9b3",
    "colab": {
     "autoexec": {
      "startup": false,
      "wait_interval": 0
     },
     "output_extras": [
      {}
     ]
    },
    "colab_type": "code",
    "id": "ThXMkCk0ScSQ",
    "outputId": "24c17bc4-f411-470d-e483-cd6098eff679"
   },
   "outputs": [
    {
     "data": {
      "text/plain": [
       "0    72\n",
       "1    70\n",
       "Name: Group, dtype: int64"
      ]
     },
     "execution_count": 53,
     "metadata": {},
     "output_type": "execute_result"
    }
   ],
   "source": [
    "df_dropna['Group'].value_counts()"
   ]
  },
  {
   "cell_type": "markdown",
   "metadata": {
    "_uuid": "9a81499adca6b212e798a6b9a123c5806d57e087",
    "colab_type": "text",
    "id": "A0ipe9qsScSU"
   },
   "source": [
    "## 3.B Imputation"
   ]
  },
  {
   "cell_type": "code",
   "execution_count": 54,
   "metadata": {
    "_uuid": "1c2354281b56aaac81b5dd09cee531be85a72b1f",
    "colab": {
     "autoexec": {
      "startup": false,
      "wait_interval": 0
     },
     "output_extras": [
      {}
     ]
    },
    "colab_type": "code",
    "id": "62IgZtwnScSV",
    "outputId": "a5e8f86e-66d6-4147-83f7-f26b12787245"
   },
   "outputs": [
    {
     "data": {
      "image/png": "[encoded data removed]",
      "text/plain": [
       "<Figure size 432x288 with 1 Axes>"
      ]
     },
     "metadata": {},
     "output_type": "display_data"
    }
   ],
   "source": [
    "# Draw scatter plot between EDUC and SES\n",
    "x = df['EDUC']\n",
    "y = df['SES']\n",
    "\n",
    "ses_not_null_index = y[~y.isnull()].index\n",
    "x = x[ses_not_null_index]\n",
    "y = y[ses_not_null_index]\n",
    "\n",
    "# Draw trend line in red\n",
    "z = np.polyfit(x, y, 1)\n",
    "p = np.poly1d(z)\n",
    "plt.plot(x, y, 'go', x, p(x), \"r--\")\n",
    "plt.xlabel('Education Level(EDUC)')\n",
    "plt.ylabel('Social Economic Status(SES)')\n",
    "\n",
    "plt.show()"
   ]
  },
  {
   "cell_type": "code",
   "execution_count": 55,
   "metadata": {
    "_uuid": "d2fcc229a25ba9ad1097de001cd53505ad0ba478",
    "colab": {
     "autoexec": {
      "startup": false,
      "wait_interval": 0
     },
     "output_extras": [
      {}
     ]
    },
    "colab_type": "code",
    "id": "cKaMRSvgScSY",
    "outputId": "f05f5530-b14c-4bb8-abbb-037e2a0838e3"
   },
   "outputs": [
    {
     "data": {
      "text/plain": [
       "EDUC\n",
       "6     4.0\n",
       "8     5.0\n",
       "11    4.0\n",
       "12    3.0\n",
       "13    2.0\n",
       "14    3.0\n",
       "15    2.0\n",
       "16    2.0\n",
       "17    1.0\n",
       "18    2.0\n",
       "20    1.0\n",
       "23    1.0\n",
       "Name: SES, dtype: float64"
      ]
     },
     "execution_count": 55,
     "metadata": {},
     "output_type": "execute_result"
    }
   ],
   "source": [
    "df.groupby(['EDUC'])['SES'].median()"
   ]
  },
  {
   "cell_type": "code",
   "execution_count": 56,
   "metadata": {
    "_uuid": "b41fdf3fc1f569f482e8a506f0737775e84b338a",
    "colab": {
     "autoexec": {
      "startup": false,
      "wait_interval": 0
     }
    },
    "colab_type": "code",
    "id": "dj_edAcdScSb"
   },
   "outputs": [],
   "source": [
    "df[\"SES\"].fillna(df.groupby(\"EDUC\")[\"SES\"].transform(\"median\"), inplace=True)"
   ]
  },
  {
   "cell_type": "code",
   "execution_count": 57,
   "metadata": {
    "_uuid": "63c36b7bc32f5cc65c8bf908113ba919a17fc5b8",
    "colab": {
     "autoexec": {
      "startup": false,
      "wait_interval": 0
     },
     "output_extras": [
      {}
     ]
    },
    "colab_type": "code",
    "id": "Y4SgUM58ScSd",
    "outputId": "9325d3dc-7f01-4be2-a932-a39c68d202b7"
   },
   "outputs": [
    {
     "data": {
      "text/plain": [
       "False    150\n",
       "Name: SES, dtype: int64"
      ]
     },
     "execution_count": 57,
     "metadata": {},
     "output_type": "execute_result"
    }
   ],
   "source": [
    "# I confirm there're no more missing values and all the 150 data were used.\n",
    "pd.isnull(df['SES']).value_counts()"
   ]
  },
  {
   "cell_type": "markdown",
   "metadata": {
    "_uuid": "61220f51b25e5efcc5ceaa0d8f133967514b33a5"
   },
   "source": [
    "## 3.C Splitting Train/Validation/Test Sets"
   ]
  },
  {
   "cell_type": "code",
   "execution_count": 58,
   "metadata": {
    "_uuid": "b039c111537091add5e04716b4d33501855155e8",
    "colab": {
     "autoexec": {
      "startup": false,
      "wait_interval": 0
     }
    },
    "colab_type": "code",
    "id": "kJcRjpOIScSj"
   },
   "outputs": [],
   "source": [
    "from sklearn.model_selection import train_test_split\n",
    "from sklearn import preprocessing\n",
    "from sklearn.preprocessing import MinMaxScaler \n",
    "from sklearn.model_selection import cross_val_score"
   ]
  },
  {
   "cell_type": "code",
   "execution_count": 59,
   "metadata": {
    "_uuid": "9c0cd7fedabdd26e4dbd2e5ed19a79c9097511c8",
    "colab": {
     "autoexec": {
      "startup": false,
      "wait_interval": 0
     }
    },
    "colab_type": "code",
    "id": "eI6EXWT7ScSm"
   },
   "outputs": [],
   "source": [
    "Y = df['Group']\n",
    "X = df[['M/F', 'Age', 'EDUC', 'SES', 'MMSE', 'eTIV', 'nWBV', 'ASF']] # Features we use\n",
    "\n",
    "# splitting into three sets\n",
    "X_trainval, X_test, Y_trainval, Y_test = train_test_split(\n",
    "    X, Y, random_state=0)\n",
    "\n",
    "# Feature scaling\n",
    "scaler = MinMaxScaler().fit(X_trainval)\n",
    "X_trainval_scaled = scaler.transform(X_trainval)\n",
    "X_test_scaled = scaler.transform(X_test)"
   ]
  },
  {
   "cell_type": "code",
   "execution_count": 60,
   "metadata": {
    "_uuid": "aa47c091672863c3ad5c785a65cf227977cb9c37",
    "colab": {
     "autoexec": {
      "startup": false,
      "wait_interval": 0
     }
    },
    "colab_type": "code",
    "id": "oQAwHijeScSq"
   },
   "outputs": [],
   "source": [
    "# Dataset after dropping missing value rows\n",
    "Y = df_dropna['Group'].values # Target for the model\n",
    "X = df_dropna[['M/F', 'Age', 'EDUC', 'SES', 'MMSE', 'eTIV', 'nWBV', 'ASF']] # Features we use\n",
    "\n",
    "# splitting into three sets\n",
    "X_trainval_dna, X_test_dna, Y_trainval_dna, Y_test_dna = train_test_split(\n",
    "    X, Y, random_state=0)\n",
    "\n",
    "# Feature scaling\n",
    "scaler = MinMaxScaler().fit(X_trainval_dna)\n",
    "X_trainval_scaled_dna = scaler.transform(X_trainval_dna)\n",
    "X_test_scaled_dna = scaler.transform(X_test_dna)"
   ]
  },
  {
   "cell_type": "markdown",
   "metadata": {
    "_uuid": "b2356d2f3b9b746909c52e98c88c9dd9e20f77bf",
    "colab_type": "text",
    "id": "Hh0VrtWIScSt"
   },
   "source": [
    "## 3.D Cross-validation\n",
    "We conduct 5-fold cross-validation to figure out the best parameters SVM.Since our performance metric is accuracy, we find the best tuning parameters by *accuracy*."
   ]
  },
  {
   "cell_type": "markdown",
   "metadata": {
    "_uuid": "27d4266a859c95510a8355df6c98c741a4805224",
    "colab_type": "text",
    "id": "vgYxX0OkScSj"
   },
   "source": [
    "# 4 SVM MODEL\n",
    "C: Penalty parameter C of the error term. [0.001, 0.01, 0.1, 1, 10, 100, 1000]\n",
    "\n",
    "gamma: kernel coefficient. [0.001, 0.01, 0.1, 1, 10, 100, 1000]\n",
    "\n",
    "kernel: kernel type. ['rbf', 'linear', 'poly', 'sigmoid']"
   ]
  },
  {
   "cell_type": "code",
   "execution_count": 61,
   "metadata": {
    "_uuid": "f8dcc6798d6f0aa777fff85c880a47ec78ad9e5c"
   },
   "outputs": [],
   "source": [
    "from sklearn.linear_model import LogisticRegression\n",
    "from sklearn.svm import SVC\n",
    "from sklearn.tree import DecisionTreeClassifier\n",
    "from sklearn.ensemble import RandomForestClassifier\n",
    "from sklearn.ensemble import AdaBoostClassifier\n",
    "from sklearn.metrics import confusion_matrix, accuracy_score, recall_score, roc_curve, auc"
   ]
  },
  {
   "cell_type": "markdown",
   "metadata": {
    "_uuid": "9b30f505fa1febaa9b0577ef2943906046f77413"
   },
   "source": [
    "In overall, dataset with imputation outperforms the one without imputation. For the later models, we use dataset without imputation."
   ]
  },
  {
   "cell_type": "code",
   "execution_count": 62,
   "metadata": {
    "_uuid": "527bf4c3aaeb65eeb16f929c2c8c82ce4c2263c2",
    "colab": {
     "autoexec": {
      "startup": false,
      "wait_interval": 0
     },
     "output_extras": [
      {}
     ]
    },
    "colab_type": "code",
    "id": "Xp5EM__NScS2",
    "outputId": "ac91ced2-9648-4248-8c62-6babfb401178"
   },
   "outputs": [
    {
     "name": "stdout",
     "output_type": "stream",
     "text": [
      "Best accuracy on cross validation set is: 0.7715038584603802\n",
      "Best parameter for c is:  100\n",
      "Best parameter for gamma is:  0.1\n",
      "Best parameter for kernel is:  rbf\n",
      "Test accuracy with the best parameters is 0.8157894736842105\n",
      "Test recall with the best parameters is 0.7\n",
      "Test recall with the best parameter is 0.8222222222222222\n"
     ]
    }
   ],
   "source": [
    "best_score = 0\n",
    "\n",
    "for c_paramter in [0.001, 0.01, 0.1, 1, 10, 100, 1000]: #iterate over the values we need to try for the parameter C\n",
    "    for gamma_paramter in [0.001, 0.01, 0.1, 1, 10, 100, 1000]:\n",
    "        for k_parameter in ['rbf', 'linear', 'poly', 'sigmoid']:\n",
    "            svmModel = SVC(kernel=k_parameter, C=c_paramter, gamma=gamma_paramter) #define the model\n",
    "            # perform cross-validation\n",
    "            scores = cross_val_score(svmModel, X_trainval_scaled, Y_trainval, cv=kfolds, scoring='accuracy')\n",
    "            # the training set will be split internally into training and cross validation\n",
    "\n",
    "            # compute mean cross-validation accuracy\n",
    "            score = np.mean(scores)\n",
    "            # if we got a better score, store the score and parameters\n",
    "            if score > best_score:\n",
    "                best_score = score #store the score \n",
    "                best_parameter_c = c_paramter #store the parameter c\n",
    "                best_parameter_gamma = gamma_paramter # store the parameter gamma\n",
    "                best_parameter_k = k_parameter\n",
    "            \n",
    "\n",
    "# rebuild a model with best parameters to get score \n",
    "SelectedSVMmodel = SVC(C=best_parameter_c, gamma=best_parameter_gamma, kernel=best_parameter_k).fit(X_trainval_scaled, Y_trainval)\n",
    "\n",
    "test_score = SelectedSVMmodel.score(X_test_scaled, Y_test)\n",
    "PredictedOutput = SelectedSVMmodel.predict(X_test_scaled)\n",
    "test_recall = recall_score(Y_test, PredictedOutput, pos_label=1)\n",
    "fpr, tpr, thresholds = roc_curve(Y_test, PredictedOutput, pos_label=1)\n",
    "test_auc = auc(fpr, tpr)\n",
    "print(\"Best accuracy on cross validation set is:\", best_score)\n",
    "print(\"Best parameter for c is: \", best_parameter_c)\n",
    "print(\"Best parameter for gamma is: \", best_parameter_gamma)\n",
    "print(\"Best parameter for kernel is: \", best_parameter_k)\n",
    "print(\"Test accuracy with the best parameters is\", test_score)\n",
    "print(\"Test recall with the best parameters is\", test_recall)\n",
    "print(\"Test recall with the best parameter is\", test_auc)\n",
    "\n",
    "m = 'SVM'\n",
    "acc.append([m, test_score, test_recall, test_auc, fpr, tpr, thresholds])"
   ]
  },
  {
   "cell_type": "code",
   "execution_count": null,
   "metadata": {},
   "outputs": [],
   "source": []
  }
 ],
 "metadata": {
  "anaconda-cloud": {},
  "colab": {
   "collapsed_sections": [],
   "default_view": {},
   "name": "FinalReport_Code.ipynb",
   "provenance": [],
   "version": "0.3.2",
   "views": {}
  },
  "kernelspec": {
   "display_name": "Python 3",
   "language": "python",
   "name": "python3"
  },
  "language_info": {
   "codemirror_mode": {
    "name": "ipython",
    "version": 3
   },
   "file_extension": ".py",
   "mimetype": "text/x-python",
   "name": "python",
   "nbconvert_exporter": "python",
   "pygments_lexer": "ipython3",
   "version": "3.7.0"
  }
 },
 "nbformat": 4,
 "nbformat_minor": 2
}
